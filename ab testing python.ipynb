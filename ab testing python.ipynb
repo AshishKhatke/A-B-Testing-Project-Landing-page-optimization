{
 "cells": [
  {
   "cell_type": "code",
   "execution_count": 1,
   "id": "b2e35870-aeea-48bc-a0c3-dfc7fd1687d0",
   "metadata": {},
   "outputs": [],
   "source": [
    "import pandas as pd\n",
    "from statsmodels.stats.proportion import proportions_ztest"
   ]
  },
  {
   "cell_type": "code",
   "execution_count": 2,
   "id": "b3706667-dceb-4fe0-ad0b-51c0973050ba",
   "metadata": {},
   "outputs": [],
   "source": [
    "df= pd.read_csv('ab_test.csv')"
   ]
  },
  {
   "cell_type": "code",
   "execution_count": 3,
   "id": "34124220-4a6c-4ffa-b168-eb84d3a87b1f",
   "metadata": {},
   "outputs": [
    {
     "data": {
      "text/html": [
       "<div>\n",
       "<style scoped>\n",
       "    .dataframe tbody tr th:only-of-type {\n",
       "        vertical-align: middle;\n",
       "    }\n",
       "\n",
       "    .dataframe tbody tr th {\n",
       "        vertical-align: top;\n",
       "    }\n",
       "\n",
       "    .dataframe thead th {\n",
       "        text-align: right;\n",
       "    }\n",
       "</style>\n",
       "<table border=\"1\" class=\"dataframe\">\n",
       "  <thead>\n",
       "    <tr style=\"text-align: right;\">\n",
       "      <th></th>\n",
       "      <th>id</th>\n",
       "      <th>time</th>\n",
       "      <th>con_treat</th>\n",
       "      <th>page</th>\n",
       "      <th>converted</th>\n",
       "    </tr>\n",
       "  </thead>\n",
       "  <tbody>\n",
       "    <tr>\n",
       "      <th>0</th>\n",
       "      <td>851104</td>\n",
       "      <td>11:48.6</td>\n",
       "      <td>control</td>\n",
       "      <td>old_page</td>\n",
       "      <td>0</td>\n",
       "    </tr>\n",
       "    <tr>\n",
       "      <th>1</th>\n",
       "      <td>804228</td>\n",
       "      <td>01:45.2</td>\n",
       "      <td>control</td>\n",
       "      <td>old_page</td>\n",
       "      <td>0</td>\n",
       "    </tr>\n",
       "    <tr>\n",
       "      <th>2</th>\n",
       "      <td>661590</td>\n",
       "      <td>55:06.2</td>\n",
       "      <td>treatment</td>\n",
       "      <td>new_page</td>\n",
       "      <td>0</td>\n",
       "    </tr>\n",
       "    <tr>\n",
       "      <th>3</th>\n",
       "      <td>853541</td>\n",
       "      <td>28:03.1</td>\n",
       "      <td>treatment</td>\n",
       "      <td>new_page</td>\n",
       "      <td>0</td>\n",
       "    </tr>\n",
       "    <tr>\n",
       "      <th>4</th>\n",
       "      <td>864975</td>\n",
       "      <td>52:26.2</td>\n",
       "      <td>control</td>\n",
       "      <td>old_page</td>\n",
       "      <td>1</td>\n",
       "    </tr>\n",
       "  </tbody>\n",
       "</table>\n",
       "</div>"
      ],
      "text/plain": [
       "       id     time  con_treat      page  converted\n",
       "0  851104  11:48.6    control  old_page          0\n",
       "1  804228  01:45.2    control  old_page          0\n",
       "2  661590  55:06.2  treatment  new_page          0\n",
       "3  853541  28:03.1  treatment  new_page          0\n",
       "4  864975  52:26.2    control  old_page          1"
      ]
     },
     "execution_count": 3,
     "metadata": {},
     "output_type": "execute_result"
    }
   ],
   "source": [
    "df.head()"
   ]
  },
  {
   "cell_type": "code",
   "execution_count": 4,
   "id": "4de9cbbc-5caf-4aaf-9b79-86c777ba8219",
   "metadata": {},
   "outputs": [
    {
     "name": "stdout",
     "output_type": "stream",
     "text": [
      "<class 'pandas.core.frame.DataFrame'>\n",
      "RangeIndex: 294478 entries, 0 to 294477\n",
      "Data columns (total 5 columns):\n",
      " #   Column     Non-Null Count   Dtype \n",
      "---  ------     --------------   ----- \n",
      " 0   id         294478 non-null  int64 \n",
      " 1   time       294478 non-null  object\n",
      " 2   con_treat  294478 non-null  object\n",
      " 3   page       294478 non-null  object\n",
      " 4   converted  294478 non-null  int64 \n",
      "dtypes: int64(2), object(3)\n",
      "memory usage: 11.2+ MB\n"
     ]
    }
   ],
   "source": [
    "df.info()"
   ]
  },
  {
   "cell_type": "code",
   "execution_count": 5,
   "id": "802ce9bc-f3fb-4098-9539-7ff0711028ee",
   "metadata": {},
   "outputs": [
    {
     "data": {
      "text/plain": [
       "con_treat  page    \n",
       "treatment  new_page    145311\n",
       "control    old_page    145274\n",
       "treatment  old_page      1965\n",
       "control    new_page      1928\n",
       "Name: count, dtype: int64"
      ]
     },
     "execution_count": 5,
     "metadata": {},
     "output_type": "execute_result"
    }
   ],
   "source": [
    "df[['con_treat','page']].value_counts()"
   ]
  },
  {
   "cell_type": "code",
   "execution_count": 6,
   "id": "ace06420-ac6c-44b0-a364-3f406f6ea132",
   "metadata": {},
   "outputs": [],
   "source": [
    "mismatches = df[\n",
    "((df['con_treat'] == 'control') & (df['con_treat']=='new_page'))|\n",
    "  ((df['con_treat'] == 'treatment') & (df['con_treat']=='old_page'))\n",
    "    ]\n"
   ]
  },
  {
   "cell_type": "code",
   "execution_count": 7,
   "id": "46632fb9-061b-4793-ac38-a3039dd7e840",
   "metadata": {},
   "outputs": [
    {
     "data": {
      "text/plain": [
       "id           0\n",
       "time         0\n",
       "con_treat    0\n",
       "page         0\n",
       "converted    0\n",
       "dtype: int64"
      ]
     },
     "execution_count": 7,
     "metadata": {},
     "output_type": "execute_result"
    }
   ],
   "source": [
    "mismatches.isnull().sum()"
   ]
  },
  {
   "cell_type": "code",
   "execution_count": 8,
   "id": "a20e1242-cb30-4369-b59f-f5494e8e5cf5",
   "metadata": {},
   "outputs": [],
   "source": [
    "control_rate = df[df['con_treat'] == 'control']['converted'].mean()\n",
    "treatment_rate = df[df['con_treat'] == 'treatment']['converted'].mean()"
   ]
  },
  {
   "cell_type": "code",
   "execution_count": 9,
   "id": "92ef488b-2e04-4fde-a04f-08c14dc46d0e",
   "metadata": {},
   "outputs": [
    {
     "name": "stdout",
     "output_type": "stream",
     "text": [
      "Control Converted Rate 0.12039917935897611\n",
      "Treatment Converted Rate 0.11891957956489856\n"
     ]
    }
   ],
   "source": [
    "print ('Control Converted Rate',control_rate)\n",
    "print ('Treatment Converted Rate',treatment_rate)"
   ]
  },
  {
   "cell_type": "code",
   "execution_count": 10,
   "id": "6df8bf02-3b42-485b-860b-f293c60dbf24",
   "metadata": {},
   "outputs": [],
   "source": [
    "conversions = [\n",
    "df[df['con_treat'] == 'control']['converted'].sum(),\n",
    "df[df['con_treat'] == 'treatment']['converted'].sum()\n",
    "]\n",
    "\n",
    "total_users = [\n",
    "    df[df['con_treat']=='control']['converted'].count(),\n",
    "    df[df['con_treat']=='treatment']['converted'].count()\n",
    "]"
   ]
  },
  {
   "cell_type": "code",
   "execution_count": 11,
   "id": "d9307e9e-eea9-465e-9999-28dde7cd0192",
   "metadata": {},
   "outputs": [
    {
     "name": "stdout",
     "output_type": "stream",
     "text": [
      "conversions [17723, 17514]\n"
     ]
    }
   ],
   "source": [
    "print ('conversions',conversions)"
   ]
  },
  {
   "cell_type": "code",
   "execution_count": 12,
   "id": "f677284f-d74a-4eed-996c-c733dcbf4fc4",
   "metadata": {},
   "outputs": [
    {
     "name": "stdout",
     "output_type": "stream",
     "text": [
      "total_users [147202, 147276]\n"
     ]
    }
   ],
   "source": [
    "print ('total_users',total_users)"
   ]
  },
  {
   "cell_type": "code",
   "execution_count": 13,
   "id": "af2fd6bf-4d07-4fd3-8a3d-96abe6fbee22",
   "metadata": {},
   "outputs": [],
   "source": [
    "z_stat, p_value = proportions_ztest(count=conversions, nobs=total_users)"
   ]
  },
  {
   "cell_type": "code",
   "execution_count": 14,
   "id": "b8d1b28d-3ec7-41ea-a681-3edcc236c69c",
   "metadata": {},
   "outputs": [
    {
     "name": "stdout",
     "output_type": "stream",
     "text": [
      "Z Statistics 1.2369217547321678\n",
      "P values 0.21611613269757501\n"
     ]
    }
   ],
   "source": [
    "print ('Z Statistics',z_stat)\n",
    "print ('P values',p_value)"
   ]
  },
  {
   "cell_type": "code",
   "execution_count": null,
   "id": "6605f909-49ad-4762-a845-8592a154986b",
   "metadata": {
    "scrolled": true
   },
   "outputs": [],
   "source": [
    "###  A/B Testing Conclusion \n",
    "**conducted an A/B test to evaluate the effectiveness of a new landing page (treatment) compared to the existing one (control) in terms of conversion rate.\n",
    "\n",
    "###  Key Findings:\n",
    "- **Control Group Conversion Rate:** 0.120%\n",
    "- **Treatment Group Conversion Rate:** 0.118%\n",
    "- **Z-Statistic:** 1.24\n",
    "- **P-Value:** 0.2161\n",
    "\n",
    "###  Statistical Inference:\n",
    "Using a two-proportion z-test, we found that the difference in conversion rates between the control and treatment groups is **not statistically significant** at the 5% significance level (p > 0.05).\n",
    "\n",
    "###  Business Implication:\n",
    "Since the new landing page does not significantly improve conversions, it may not be worth implementing the change site-wide. Further testing with a larger sample size or a different design may be recommended.\n"
   ]
  },
  {
   "cell_type": "code",
   "execution_count": null,
   "id": "9c99e5b5-99ba-491a-816d-d42dea615903",
   "metadata": {},
   "outputs": [],
   "source": []
  },
  {
   "cell_type": "code",
   "execution_count": null,
   "id": "f901e17e-2fbc-4f7b-b9d1-3d7bdfc86b79",
   "metadata": {},
   "outputs": [],
   "source": []
  }
 ],
 "metadata": {
  "kernelspec": {
   "display_name": "Python 3 (ipykernel)",
   "language": "python",
   "name": "python3"
  },
  "language_info": {
   "codemirror_mode": {
    "name": "ipython",
    "version": 3
   },
   "file_extension": ".py",
   "mimetype": "text/x-python",
   "name": "python",
   "nbconvert_exporter": "python",
   "pygments_lexer": "ipython3",
   "version": "3.12.7"
  }
 },
 "nbformat": 4,
 "nbformat_minor": 5
}
